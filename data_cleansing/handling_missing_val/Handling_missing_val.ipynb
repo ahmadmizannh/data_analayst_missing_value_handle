{
 "cells": [
  {
   "cell_type": "markdown",
   "metadata": {},
   "source": [
    "Let's imagine you have a dataset that contains information about customers of an e-commerce store. The dataset includes the following columns:\n",
    "\n",
    "customer_id: Unique identifier for each customer\n",
    "age: Age of the customer\n",
    "gender: Gender of the customer\n",
    "email: Email address of the customer\n",
    "purchase_amount: The amount spent by the customer on purchases"
   ]
  },
  {
   "cell_type": "code",
   "execution_count": 1,
   "metadata": {
    "ExecuteTime": {
     "end_time": "2023-07-11T15:50:57.718079Z",
     "start_time": "2023-07-11T15:50:56.951547100Z"
    }
   },
   "outputs": [],
   "source": [
    "import pandas as pd\n",
    "import numpy as np"
   ]
  },
  {
   "cell_type": "code",
   "execution_count": 2,
   "metadata": {
    "ExecuteTime": {
     "end_time": "2023-07-11T15:50:57.745680300Z",
     "start_time": "2023-07-11T15:50:57.719092200Z"
    }
   },
   "outputs": [
    {
     "data": {
      "text/html": [
       "<div>\n",
       "<style scoped>\n",
       "    .dataframe tbody tr th:only-of-type {\n",
       "        vertical-align: middle;\n",
       "    }\n",
       "\n",
       "    .dataframe tbody tr th {\n",
       "        vertical-align: top;\n",
       "    }\n",
       "\n",
       "    .dataframe thead th {\n",
       "        text-align: right;\n",
       "    }\n",
       "</style>\n",
       "<table border=\"1\" class=\"dataframe\">\n",
       "  <thead>\n",
       "    <tr style=\"text-align: right;\">\n",
       "      <th></th>\n",
       "      <th>customer_id</th>\n",
       "      <th>age</th>\n",
       "      <th>gender</th>\n",
       "      <th>email</th>\n",
       "      <th>purchase_amount</th>\n",
       "    </tr>\n",
       "  </thead>\n",
       "  <tbody>\n",
       "    <tr>\n",
       "      <th>0</th>\n",
       "      <td>1</td>\n",
       "      <td>25.0</td>\n",
       "      <td>M</td>\n",
       "      <td>example1@example.com</td>\n",
       "      <td>100.0</td>\n",
       "    </tr>\n",
       "    <tr>\n",
       "      <th>1</th>\n",
       "      <td>2</td>\n",
       "      <td>NaN</td>\n",
       "      <td>F</td>\n",
       "      <td>example2@example.com</td>\n",
       "      <td>50.0</td>\n",
       "    </tr>\n",
       "    <tr>\n",
       "      <th>2</th>\n",
       "      <td>3</td>\n",
       "      <td>30.0</td>\n",
       "      <td>NaN</td>\n",
       "      <td>NaN</td>\n",
       "      <td>NaN</td>\n",
       "    </tr>\n",
       "    <tr>\n",
       "      <th>3</th>\n",
       "      <td>4</td>\n",
       "      <td>35.0</td>\n",
       "      <td>M</td>\n",
       "      <td>example4@example.com</td>\n",
       "      <td>200.0</td>\n",
       "    </tr>\n",
       "    <tr>\n",
       "      <th>4</th>\n",
       "      <td>5</td>\n",
       "      <td>NaN</td>\n",
       "      <td>F</td>\n",
       "      <td>example5@example.com</td>\n",
       "      <td>NaN</td>\n",
       "    </tr>\n",
       "  </tbody>\n",
       "</table>\n",
       "</div>"
      ],
      "text/plain": [
       "   customer_id   age gender                 email  purchase_amount\n",
       "0            1  25.0      M  example1@example.com            100.0\n",
       "1            2   NaN      F  example2@example.com             50.0\n",
       "2            3  30.0    NaN                   NaN              NaN\n",
       "3            4  35.0      M  example4@example.com            200.0\n",
       "4            5   NaN      F  example5@example.com              NaN"
      ]
     },
     "execution_count": 2,
     "metadata": {},
     "output_type": "execute_result"
    }
   ],
   "source": [
    "# Create the DataFrame\n",
    "data = {\n",
    "    'customer_id': [1, 2, 3, 4, 5],\n",
    "    'age': [25, np.nan, 30, 35, np.nan],\n",
    "    'gender': ['M', 'F', np.nan, 'M', 'F'],\n",
    "    'email': ['example1@example.com', 'example2@example.com', np.nan, 'example4@example.com', 'example5@example.com'],\n",
    "    'purchase_amount': [100.0, 50.0, np.nan, 200.0, np.nan]\n",
    "}\n",
    "\n",
    "df = pd.DataFrame(data)\n",
    "df"
   ]
  },
  {
   "cell_type": "code",
   "execution_count": 3,
   "metadata": {
    "ExecuteTime": {
     "end_time": "2023-07-11T15:50:57.777796600Z",
     "start_time": "2023-07-11T15:50:57.744616200Z"
    }
   },
   "outputs": [
    {
     "name": "stdout",
     "output_type": "stream",
     "text": [
      "<class 'pandas.core.frame.DataFrame'>\n",
      "RangeIndex: 5 entries, 0 to 4\n",
      "Data columns (total 5 columns):\n",
      " #   Column           Non-Null Count  Dtype  \n",
      "---  ------           --------------  -----  \n",
      " 0   customer_id      5 non-null      int64  \n",
      " 1   age              3 non-null      float64\n",
      " 2   gender           4 non-null      object \n",
      " 3   email            4 non-null      object \n",
      " 4   purchase_amount  3 non-null      float64\n",
      "dtypes: float64(2), int64(1), object(2)\n",
      "memory usage: 332.0+ bytes\n"
     ]
    }
   ],
   "source": [
    "df.info()"
   ]
  },
  {
   "cell_type": "markdown",
   "metadata": {},
   "source": [
    "# Handling missing values"
   ]
  },
  {
   "cell_type": "code",
   "execution_count": 4,
   "metadata": {
    "ExecuteTime": {
     "end_time": "2023-07-11T15:50:57.810879200Z",
     "start_time": "2023-07-11T15:50:57.756561100Z"
    }
   },
   "outputs": [
    {
     "data": {
      "text/html": [
       "<div>\n",
       "<style scoped>\n",
       "    .dataframe tbody tr th:only-of-type {\n",
       "        vertical-align: middle;\n",
       "    }\n",
       "\n",
       "    .dataframe tbody tr th {\n",
       "        vertical-align: top;\n",
       "    }\n",
       "\n",
       "    .dataframe thead th {\n",
       "        text-align: right;\n",
       "    }\n",
       "</style>\n",
       "<table border=\"1\" class=\"dataframe\">\n",
       "  <thead>\n",
       "    <tr style=\"text-align: right;\">\n",
       "      <th></th>\n",
       "      <th>customer_id</th>\n",
       "      <th>age</th>\n",
       "      <th>gender</th>\n",
       "      <th>email</th>\n",
       "      <th>purchase_amount</th>\n",
       "    </tr>\n",
       "  </thead>\n",
       "  <tbody>\n",
       "    <tr>\n",
       "      <th>0</th>\n",
       "      <td>1</td>\n",
       "      <td>25.0</td>\n",
       "      <td>M</td>\n",
       "      <td>example1@example.com</td>\n",
       "      <td>100.0</td>\n",
       "    </tr>\n",
       "    <tr>\n",
       "      <th>3</th>\n",
       "      <td>4</td>\n",
       "      <td>35.0</td>\n",
       "      <td>M</td>\n",
       "      <td>example4@example.com</td>\n",
       "      <td>200.0</td>\n",
       "    </tr>\n",
       "  </tbody>\n",
       "</table>\n",
       "</div>"
      ],
      "text/plain": [
       "   customer_id   age gender                 email  purchase_amount\n",
       "0            1  25.0      M  example1@example.com            100.0\n",
       "3            4  35.0      M  example4@example.com            200.0"
      ]
     },
     "execution_count": 4,
     "metadata": {},
     "output_type": "execute_result"
    }
   ],
   "source": [
    "# Case 1: Drop rows with missing values\n",
    "df_dropped = df.dropna()\n",
    "df_dropped"
   ]
  },
  {
   "cell_type": "markdown",
   "metadata": {},
   "source": [
    "In case you want to drop column with missing value"
   ]
  },
  {
   "cell_type": "code",
   "execution_count": 5,
   "metadata": {
    "ExecuteTime": {
     "end_time": "2023-07-11T15:50:57.840723400Z",
     "start_time": "2023-07-11T15:50:57.775793300Z"
    }
   },
   "outputs": [
    {
     "data": {
      "text/html": [
       "<div>\n",
       "<style scoped>\n",
       "    .dataframe tbody tr th:only-of-type {\n",
       "        vertical-align: middle;\n",
       "    }\n",
       "\n",
       "    .dataframe tbody tr th {\n",
       "        vertical-align: top;\n",
       "    }\n",
       "\n",
       "    .dataframe thead th {\n",
       "        text-align: right;\n",
       "    }\n",
       "</style>\n",
       "<table border=\"1\" class=\"dataframe\">\n",
       "  <thead>\n",
       "    <tr style=\"text-align: right;\">\n",
       "      <th></th>\n",
       "      <th>customer_id</th>\n",
       "    </tr>\n",
       "  </thead>\n",
       "  <tbody>\n",
       "    <tr>\n",
       "      <th>0</th>\n",
       "      <td>1</td>\n",
       "    </tr>\n",
       "    <tr>\n",
       "      <th>1</th>\n",
       "      <td>2</td>\n",
       "    </tr>\n",
       "    <tr>\n",
       "      <th>2</th>\n",
       "      <td>3</td>\n",
       "    </tr>\n",
       "    <tr>\n",
       "      <th>3</th>\n",
       "      <td>4</td>\n",
       "    </tr>\n",
       "    <tr>\n",
       "      <th>4</th>\n",
       "      <td>5</td>\n",
       "    </tr>\n",
       "  </tbody>\n",
       "</table>\n",
       "</div>"
      ],
      "text/plain": [
       "   customer_id\n",
       "0            1\n",
       "1            2\n",
       "2            3\n",
       "3            4\n",
       "4            5"
      ]
     },
     "execution_count": 5,
     "metadata": {},
     "output_type": "execute_result"
    }
   ],
   "source": [
    "df_dropped_col = df.drop(columns=['age','gender','email','purchase_amount'])\n",
    "df_dropped_col\n"
   ]
  },
  {
   "cell_type": "markdown",
   "metadata": {},
   "source": [
    "## Imputation"
   ]
  },
  {
   "cell_type": "code",
   "execution_count": 6,
   "metadata": {
    "ExecuteTime": {
     "end_time": "2023-07-11T15:50:57.852396800Z",
     "start_time": "2023-07-11T15:50:57.789468900Z"
    }
   },
   "outputs": [
    {
     "name": "stdout",
     "output_type": "stream",
     "text": [
      "DataFrame after filling missing values with specific values:\n",
      "   customer_id   age   gender                       email  purchase_amount\n",
      "0            1  25.0        M        example1@example.com            100.0\n",
      "1            2   0.0        F        example2@example.com             50.0\n",
      "2            3  30.0  Unknown  examplehandler@example.com              0.0\n",
      "3            4  35.0        M        example4@example.com            200.0\n",
      "4            5   0.0        F        example5@example.com              0.0\n",
      "\n"
     ]
    }
   ],
   "source": [
    "# Case 2: Fill missing values with specific values\n",
    "df_filled = df.fillna({'age': 0, 'gender': 'Unknown','email':'examplehandler@example.com', 'purchase_amount': 0.0})\n",
    "print(\"DataFrame after filling missing values with specific values:\")\n",
    "print(df_filled)\n",
    "print()"
   ]
  },
  {
   "cell_type": "code",
   "execution_count": 7,
   "metadata": {
    "ExecuteTime": {
     "end_time": "2023-07-11T15:50:57.966186500Z",
     "start_time": "2023-07-11T15:50:57.801050600Z"
    }
   },
   "outputs": [
    {
     "name": "stdout",
     "output_type": "stream",
     "text": [
      "DataFrame after filling missing values with mean:\n",
      "   customer_id   age gender                 email  purchase_amount\n",
      "0            1  25.0      M  example1@example.com            100.0\n",
      "1            2  30.0      F  example2@example.com             50.0\n",
      "2            3  30.0    NaN                   NaN            117.0\n",
      "3            4  35.0      M  example4@example.com            200.0\n",
      "4            5  30.0      F  example5@example.com            117.0\n",
      "\n"
     ]
    }
   ],
   "source": [
    "# Case 3: Fill missing values with mean/median\n",
    "df_mean_filled = df.copy()\n",
    "df_mean_filled['age'] = df_mean_filled['age'].fillna(df_mean_filled['age'].mean().round())\n",
    "df_mean_filled['purchase_amount'] = df_mean_filled['purchase_amount'].fillna(df_mean_filled['purchase_amount'].mean().round())\n",
    "print(\"DataFrame after filling missing values with mean:\")\n",
    "print(df_mean_filled)\n",
    "print()"
   ]
  },
  {
   "cell_type": "code",
   "execution_count": 8,
   "metadata": {
    "ExecuteTime": {
     "end_time": "2023-07-11T15:50:57.967199100Z",
     "start_time": "2023-07-11T15:50:57.812902Z"
    }
   },
   "outputs": [
    {
     "name": "stdout",
     "output_type": "stream",
     "text": [
      "DataFrame after forward filling missing values:\n",
      "   customer_id   age gender                 email  purchase_amount\n",
      "0            1  25.0      M  example1@example.com            100.0\n",
      "1            2  25.0      F  example2@example.com             50.0\n",
      "2            3  30.0      F  example2@example.com             50.0\n",
      "3            4  35.0      M  example4@example.com            200.0\n",
      "4            5  35.0      F  example5@example.com            200.0\n",
      "\n"
     ]
    }
   ],
   "source": [
    "# Case 4: Forward fill missing values\n",
    "df_ffill = df.copy()\n",
    "df_ffill = df.ffill()\n",
    "print(\"DataFrame after forward filling missing values:\")\n",
    "print(df_ffill)\n",
    "print()"
   ]
  },
  {
   "cell_type": "code",
   "execution_count": 9,
   "metadata": {
    "ExecuteTime": {
     "end_time": "2023-07-11T15:50:57.967199100Z",
     "start_time": "2023-07-11T15:50:57.822540700Z"
    }
   },
   "outputs": [
    {
     "data": {
      "text/html": [
       "<div>\n",
       "<style scoped>\n",
       "    .dataframe tbody tr th:only-of-type {\n",
       "        vertical-align: middle;\n",
       "    }\n",
       "\n",
       "    .dataframe tbody tr th {\n",
       "        vertical-align: top;\n",
       "    }\n",
       "\n",
       "    .dataframe thead th {\n",
       "        text-align: right;\n",
       "    }\n",
       "</style>\n",
       "<table border=\"1\" class=\"dataframe\">\n",
       "  <thead>\n",
       "    <tr style=\"text-align: right;\">\n",
       "      <th></th>\n",
       "      <th>customer_id</th>\n",
       "      <th>age</th>\n",
       "      <th>gender</th>\n",
       "      <th>email</th>\n",
       "      <th>purchase_amount</th>\n",
       "    </tr>\n",
       "  </thead>\n",
       "  <tbody>\n",
       "    <tr>\n",
       "      <th>0</th>\n",
       "      <td>1</td>\n",
       "      <td>25.0</td>\n",
       "      <td>M</td>\n",
       "      <td>example1@example.com</td>\n",
       "      <td>100.0</td>\n",
       "    </tr>\n",
       "    <tr>\n",
       "      <th>1</th>\n",
       "      <td>2</td>\n",
       "      <td>NaN</td>\n",
       "      <td>F</td>\n",
       "      <td>example2@example.com</td>\n",
       "      <td>50.0</td>\n",
       "    </tr>\n",
       "    <tr>\n",
       "      <th>2</th>\n",
       "      <td>3</td>\n",
       "      <td>30.0</td>\n",
       "      <td>M</td>\n",
       "      <td>NaN</td>\n",
       "      <td>NaN</td>\n",
       "    </tr>\n",
       "    <tr>\n",
       "      <th>3</th>\n",
       "      <td>4</td>\n",
       "      <td>35.0</td>\n",
       "      <td>M</td>\n",
       "      <td>example4@example.com</td>\n",
       "      <td>200.0</td>\n",
       "    </tr>\n",
       "    <tr>\n",
       "      <th>4</th>\n",
       "      <td>5</td>\n",
       "      <td>NaN</td>\n",
       "      <td>F</td>\n",
       "      <td>example5@example.com</td>\n",
       "      <td>NaN</td>\n",
       "    </tr>\n",
       "  </tbody>\n",
       "</table>\n",
       "</div>"
      ],
      "text/plain": [
       "   customer_id   age gender                 email  purchase_amount\n",
       "0            1  25.0      M  example1@example.com            100.0\n",
       "1            2   NaN      F  example2@example.com             50.0\n",
       "2            3  30.0      M                   NaN              NaN\n",
       "3            4  35.0      M  example4@example.com            200.0\n",
       "4            5   NaN      F  example5@example.com              NaN"
      ]
     },
     "execution_count": 9,
     "metadata": {},
     "output_type": "execute_result"
    }
   ],
   "source": [
    "df_bfill_imp = df.copy()\n",
    "df_bfill_imp['gender'] = df_bfill_imp['gender'].fillna(method='bfill')\n",
    "df_bfill_imp"
   ]
  },
  {
   "cell_type": "code",
   "execution_count": 10,
   "metadata": {
    "ExecuteTime": {
     "end_time": "2023-07-11T15:50:57.968197400Z",
     "start_time": "2023-07-11T15:50:57.839725500Z"
    }
   },
   "outputs": [
    {
     "name": "stdout",
     "output_type": "stream",
     "text": [
      "DataFrame after backward filling missing values:\n",
      "   customer_id   age gender                 email  purchase_amount\n",
      "0            1  25.0      M  example1@example.com            100.0\n",
      "1            2  30.0      F  example2@example.com             50.0\n",
      "2            3  30.0    NaN                   NaN              NaN\n",
      "3            4  35.0      M  example4@example.com            200.0\n",
      "4            5   NaN      F  example5@example.com              NaN\n",
      "\n"
     ]
    }
   ],
   "source": [
    "# Case 5: Backward fill missing values\n",
    "df_bfill = df.copy()\n",
    "df_bfill['age'] = df_bfill['age'].fillna(method='bfill')\n",
    "print(\"DataFrame after backward filling missing values:\")\n",
    "print(df_bfill)\n",
    "print()"
   ]
  },
  {
   "cell_type": "code",
   "execution_count": 11,
   "metadata": {
    "ExecuteTime": {
     "end_time": "2023-07-11T15:50:57.986944900Z",
     "start_time": "2023-07-11T15:50:57.850314200Z"
    }
   },
   "outputs": [
    {
     "name": "stdout",
     "output_type": "stream",
     "text": [
      "DataFrame after backward filling missing values:\n",
      "   customer_id   age gender                 email  purchase_amount\n",
      "0            1  25.0      M  example1@example.com            100.0\n",
      "1            2  30.0      F  example2@example.com             50.0\n",
      "2            3  30.0      M  example4@example.com            200.0\n",
      "3            4  35.0      M  example4@example.com            200.0\n",
      "4            5   NaN      F  example5@example.com              NaN\n",
      "\n"
     ]
    }
   ],
   "source": [
    "# Case 5: Backward fill missing values\n",
    "df_bfill = df.copy()\n",
    "df_bfill['age'].fillna(method='bfill', inplace=True)\n",
    "df_bfill['gender'].fillna(method='bfill', inplace=True)\n",
    "df_bfill['email'].fillna(method='bfill', inplace=True)\n",
    "df_bfill['purchase_amount'].fillna(method='bfill', inplace=True)\n",
    "\n",
    "print(\"DataFrame after backward filling missing values:\")\n",
    "print(df_bfill)\n",
    "print()"
   ]
  },
  {
   "cell_type": "code",
   "execution_count": 11,
   "metadata": {
    "ExecuteTime": {
     "end_time": "2023-07-11T15:50:57.987987200Z",
     "start_time": "2023-07-11T15:50:57.860857400Z"
    }
   },
   "outputs": [],
   "source": []
  }
 ],
 "metadata": {
  "kernelspec": {
   "display_name": "Python 3 (ipykernel)",
   "language": "python",
   "name": "python3"
  },
  "language_info": {
   "codemirror_mode": {
    "name": "ipython",
    "version": 3
   },
   "file_extension": ".py",
   "mimetype": "text/x-python",
   "name": "python",
   "nbconvert_exporter": "python",
   "pygments_lexer": "ipython3",
   "version": "3.11.3"
  }
 },
 "nbformat": 4,
 "nbformat_minor": 1
}
